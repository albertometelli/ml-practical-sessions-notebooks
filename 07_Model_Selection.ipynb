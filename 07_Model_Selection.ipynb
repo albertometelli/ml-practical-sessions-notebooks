{
  "nbformat": 4,
  "nbformat_minor": 0,
  "metadata": {
    "colab": {
      "provenance": []
    },
    "kernelspec": {
      "name": "python3",
      "display_name": "Python 3"
    },
    "language_info": {
      "name": "python"
    }
  },
  "cells": [
    {
      "cell_type": "markdown",
      "metadata": {
        "id": "cKOQGo_WNP89"
      },
      "source": [
        "# Model Selection"
      ]
    },
    {
      "cell_type": "markdown",
      "metadata": {
        "id": "F8hOO4NS0HAK"
      },
      "source": [
        "In the last exercise section, we have seen how to manage the bias-variance trade-off and how to properly evaluate our model for a given task. In this exercise section, we will see some of the methods to select a model in the first place. These includes:\n",
        "\n",
        "- feature selection, which is a supervised methodology to identify the relevant features for a given task;\n",
        "\n",
        "- principal component analysis for dimensionality reduction, which is an unsupervised methodology to reduce the dataset dimensionality;\n",
        "\n",
        "- regularization with the $k$ paramater in the $k$-nearest neighbours classifier."
      ]
    },
    {
      "cell_type": "markdown",
      "metadata": {
        "id": "cVTnuxZgOQoc"
      },
      "source": [
        "## Feature Selection"
      ]
    },
    {
      "cell_type": "markdown",
      "metadata": {
        "id": "L4k3N8AXlqhH"
      },
      "source": [
        "Let us suppose to face a common classification task on the Iris Dataset, e.g., we would like to train a model to classify 'Iris-virginica' against 'Non-virginica'.\n",
        "\n",
        "First, we can load the dataset, which is provided by sklearn"
      ]
    },
    {
      "cell_type": "code",
      "metadata": {
        "id": "xPdAAqZqlpce"
      },
      "source": [
        "from sklearn import datasets\n",
        "\n",
        "iris = datasets.load_iris()\n",
        "\n",
        "# the variable iris now contains inputs ('data' field), targets ('target', field)\n",
        "# and other stuff. Let us keep the inputs and targets in two separate variables\n",
        "\n",
        "X = iris.data\n",
        "y = iris.target"
      ],
      "execution_count": null,
      "outputs": []
    },
    {
      "cell_type": "markdown",
      "metadata": {
        "id": "JOR4KzfSm2fV"
      },
      "source": [
        "The standard targets are suited for a 3-class classification, where the class 0 is 'Setosa', 1 is 'Versicolor', 2 is 'Virginica'. Let us rearrange the target $y$ to have just class 1 for 'Virginica', 0 for 'Non-virginica'"
      ]
    },
    {
      "cell_type": "code",
      "metadata": {
        "id": "ktiRf57hmzsP"
      },
      "source": [
        "print('Original targets\\n', y)\n",
        "\n",
        "# the dataset is stored in the variable iris\n",
        "y = iris.target.copy()\n",
        "# 0 - setosa, 1 - versicolor, 2 - virginica\n",
        "y[y == 1] = 0\n",
        "y[y == 2] = 1\n",
        "\n",
        "print('Iris-Virginica targets\\n', y)"
      ],
      "execution_count": null,
      "outputs": []
    },
    {
      "cell_type": "markdown",
      "metadata": {
        "id": "U8WhNRcTnkaY"
      },
      "source": [
        "As it is well-known, this dataset has four input features. But how many of them are actually relevant for our classification task?"
      ]
    },
    {
      "cell_type": "markdown",
      "metadata": {
        "id": "xrI27Y2fny9j"
      },
      "source": [
        "### Backward Feature Selection\n",
        "\n",
        "Let us try to identify a convenient subset of $k$ features for our classification task. In principle, we would have to train $\\binom{4}{k}$ models, one for each $k \\in \\{ 1,2,3,4 \\}$, and to compare one model against the others. This sounds quite inefficient. Instead, we start from the complete set of features and we try to iteratively remove the least relevant feature.\n",
        "\n",
        "But first, do not forget to split the data in train/test/validation sets (here we will use validation to make a decision on the subset of features)."
      ]
    },
    {
      "cell_type": "code",
      "metadata": {
        "id": "2jD-7E3eozX_"
      },
      "source": [
        "import numpy as np\n",
        "# set the seed to get consistent splits\n",
        "np.random.seed(0)\n",
        "\n",
        "# let us concatenate X and y in a single matrix\n",
        "D = np.concatenate((X, y.reshape(len(y), -1)), axis=1)\n",
        "\n",
        "# then we shuffle D\n",
        "np.random.shuffle(D)\n",
        "\n",
        "# and we split the data as 60/20/20\n",
        "X_train = D[:90,:4]\n",
        "y_train = D[:90,4]\n",
        "X_vali = D[90:120,:4]\n",
        "y_vali = D[90:120,4]\n",
        "X_test = D[120:150,:4]\n",
        "y_test = D[120:150,4]"
      ],
      "execution_count": null,
      "outputs": []
    },
    {
      "cell_type": "markdown",
      "metadata": {
        "id": "BifxxwNdsiqJ"
      },
      "source": [
        "Let us train the full model (e.g., logistic regression) at first."
      ]
    },
    {
      "cell_type": "code",
      "metadata": {
        "id": "dGvC3NaXsqP5"
      },
      "source": [
        "from sklearn.linear_model import LogisticRegression\n",
        "\n",
        "# logistic regression on the original dataset\n",
        "log_classifier = LogisticRegression(penalty=None) # regularization is applied as default\n",
        "log_classifier.fit(X_train, y_train)\n",
        "y_hat_vali = log_classifier.predict(X_vali)\n",
        "vali_accuracy = sum(y_hat_vali == y_vali) / len(y_vali)\n",
        "print('Validation accuracy:', vali_accuracy)"
      ],
      "execution_count": null,
      "outputs": []
    },
    {
      "cell_type": "markdown",
      "metadata": {
        "id": "fofaV7fZtP7z"
      },
      "source": [
        "The task is quite simple, and the full model is perfect on the validation set. But all the features are necessary here?\n",
        "\n",
        "Let us train a model $M_{-i}$ which consider the set of features $\\{ x_0, x_1, x_2, x_3 \\} \\setminus \\{ x_i \\}$ for each $i \\in \\{ 0, 1, 2, 3\\}$"
      ]
    },
    {
      "cell_type": "code",
      "metadata": {
        "id": "nb6yE-i8t_26"
      },
      "source": [
        "# full set of features\n",
        "F = [0, 1, 2, 3]\n",
        "\n",
        "for i in range(len(F)):\n",
        "  # remove the feature i from train and validation\n",
        "  X_train_i = np.delete(X_train, i, axis=1)\n",
        "  X_vali_i = np.delete(X_vali, i, axis=1)\n",
        "  # fit the classifier\n",
        "  log_classifier_i = LogisticRegression(penalty=None) # regularization is applied as default\n",
        "  log_classifier_i.fit(X_train_i, y_train)\n",
        "  # evaluate on validation\n",
        "  y_hat_vali = log_classifier_i.predict(X_vali_i)\n",
        "  vali_accuracy = sum(y_hat_vali == y_vali) / len(y_vali)\n",
        "  print('The model with features', F, 'without', F[i], 'has validation accuracy:', vali_accuracy)"
      ],
      "execution_count": null,
      "outputs": []
    },
    {
      "cell_type": "markdown",
      "metadata": {
        "id": "a8qvJk2uuBR3"
      },
      "source": [
        "As you can see, removing one feature does not seem to impact the performance. Let us remove a feature randomly (e.g., $x_0$), so that we can repeat the process with three features"
      ]
    },
    {
      "cell_type": "code",
      "source": [
        "F = [1, 2, 3]\n",
        "X_train_new = X_train[:, F]\n",
        "X_vali_new = X_vali[:, F]\n",
        "for i in range(len(F)):\n",
        "  # remove the feature from train and validation\n",
        "  X_train_i = np.delete(X_train_new, i, axis=1)\n",
        "  X_vali_i = np.delete(X_vali_new, i, axis=1)\n",
        "  # fit the classifier\n",
        "  log_classifier_i = LogisticRegression(penalty=None) # regularization is applied as default\n",
        "  log_classifier_i.fit(X_train_i, y_train)\n",
        "  # evaluate on validation\n",
        "  y_hat_vali = log_classifier_i.predict(X_vali_i)\n",
        "  vali_accuracy = sum(y_hat_vali == y_vali) / len(y_vali)\n",
        "  print('The model with features', F, 'without', F[i], 'has validation accuracy:', vali_accuracy)"
      ],
      "metadata": {
        "id": "Z2bnBL6sNoIf"
      },
      "execution_count": null,
      "outputs": []
    },
    {
      "cell_type": "markdown",
      "metadata": {
        "id": "_OjrTJVauUmv"
      },
      "source": [
        "Removing feature $x_1$ we are still perfect on the validation accuracy, thus, we can remove $x_1$ without any drop in the (estimated) performance"
      ]
    },
    {
      "cell_type": "code",
      "metadata": {
        "id": "a7XhI6O-v6DJ"
      },
      "source": [
        "F = [2, 3]\n",
        "X_train_new = X_train[:,F]\n",
        "X_vali_new = X_vali[:, F]\n",
        "for i in range(len(F)):\n",
        "  # remove the feature from train and validation\n",
        "  X_train_i = np.delete(X_train_new, i, axis=1)\n",
        "  X_vali_i = np.delete(X_vali_new, i, axis=1)\n",
        "  # fit the classifier\n",
        "  log_classifier_i = LogisticRegression(penalty=None) # regularization is applied as default\n",
        "  log_classifier_i.fit(X_train_i, y_train)\n",
        "  # evaluate on validation\n",
        "  y_hat_vali = log_classifier_i.predict(X_vali_i)\n",
        "  vali_accuracy = sum(y_hat_vali == y_vali) / len(y_vali)\n",
        "  print('The model with features', F, 'without', F[i], 'has validation accuracy:', vali_accuracy)"
      ],
      "execution_count": null,
      "outputs": []
    },
    {
      "cell_type": "markdown",
      "metadata": {
        "id": "FpKi3nUavRS-"
      },
      "source": [
        "Removing another feature from $\\{ x_2, x_3 \\}$ seems to reduce the performance in any case. Thus, we can stop here the backward feature selection procedure and keep only $\\{ x_2, x_3 \\}$ in the final dataset.\n",
        "Going from a four features to two might seem a minor feat, but this is a very small example, and we are still halving the dimensionality of the dataset. The final model is also simpler, i.e., less prone to overfitting.\n",
        "\n",
        "Until now we have evaluated the feature selection with the validation set, let us look how the model behave on the test set"
      ]
    },
    {
      "cell_type": "code",
      "metadata": {
        "id": "2BIyHOF1wfQE"
      },
      "source": [
        "# we can merge back the validation into the train set!\n",
        "X_train = np.concatenate((X_train, X_vali))\n",
        "y_train = np.concatenate((y_train, y_vali))\n",
        "\n",
        "# and extract the dataset after feature selection\n",
        "F = [2, 3]\n",
        "X_train_fs = X_train[:, F]\n",
        "X_test_fs = X_test[:, F]\n",
        "\n",
        "# we fit the model once again on the new training\n",
        "log_classifier_fs = LogisticRegression(penalty=None)\n",
        "log_classifier_fs.fit(X_train_fs, y_train)\n",
        "# and we evaluate it on the test set\n",
        "y_hat_test = log_classifier_fs.predict(X_test_fs)\n",
        "test_accuracy = sum(y_hat_test == y_test) / len(y_test)\n",
        "print('The model with feature', F, 'has test accuracy:', test_accuracy)\n",
        "\n",
        "y_hat_train = log_classifier_fs.predict(X_train_fs)\n",
        "print(\"Compare this with (final) train accuracy: \", sum(y_hat_train == y_train) / len(y_train))"
      ],
      "execution_count": null,
      "outputs": []
    },
    {
      "cell_type": "markdown",
      "metadata": {
        "id": "IER3fxCx5pxq"
      },
      "source": [
        "Now that the dataset has only two features it is also easier to visualize"
      ]
    },
    {
      "cell_type": "code",
      "metadata": {
        "id": "Ph3kFwmJ57w2"
      },
      "source": [
        "from matplotlib import pyplot as plt\n",
        "\n",
        "virginica = X[y == 1]\n",
        "not_virginica = X[y == 0]\n",
        "\n",
        "plt.figure(figsize=(12,7))\n",
        "plt.scatter(virginica[:, 2], virginica[:, 3], label='virginica')\n",
        "plt.scatter(not_virginica[:, 2], not_virginica[:, 3], label='not virginica', marker='x')\n",
        "\n",
        "plt.xlabel('x2')\n",
        "plt.ylabel('x3')\n",
        "plt.grid()\n",
        "plt.legend()\n",
        "plt.show()"
      ],
      "execution_count": null,
      "outputs": []
    },
    {
      "cell_type": "markdown",
      "metadata": {
        "id": "HJMsAUKe86Rg"
      },
      "source": [
        "We can also plot the discriminative surface"
      ]
    },
    {
      "cell_type": "code",
      "metadata": {
        "id": "MOJQXg0a77Et"
      },
      "source": [
        "# Same function of Exercise Session 2\n",
        "def plot_ds(X, w, step=100, label='DS'):\n",
        "  ds_x1 = np.linspace(X[:,2].min(), X[:,2].max(), step)\n",
        "  ds_x2 = [-(w[0] + w[1]*x1) / w[2] for x1 in ds_x1]\n",
        "  plt.plot(ds_x1, ds_x2, label=label)\n",
        "\n",
        "plt.figure(figsize=(12,7))\n",
        "coef = log_classifier_fs.coef_.flatten() # weights\n",
        "w0 = log_classifier_fs.intercept_ # bias\n",
        "log_w = np.array([w0[0], coef[0], coef[1]])\n",
        "plot_ds(X, log_w, label='Logistic Regression')\n",
        "\n",
        "plt.scatter(virginica[:, 2], virginica[:, 3], label='virginica')\n",
        "plt.scatter(not_virginica[:, 2], not_virginica[:, 3], label='not virginica', marker='x')\n",
        "\n",
        "plt.xlabel('x2')\n",
        "plt.ylabel('x3')\n",
        "plt.grid()\n",
        "plt.legend()\n",
        "plt.show()"
      ],
      "execution_count": null,
      "outputs": []
    },
    {
      "cell_type": "markdown",
      "metadata": {
        "id": "rD02Gz5iOtSa"
      },
      "source": [
        "## Dimensionality Reduction: Principal Component Analysis"
      ]
    },
    {
      "cell_type": "markdown",
      "metadata": {
        "id": "cpuqCWkjXEyL"
      },
      "source": [
        "Principal Component Analysis (PCA) is an unsupervised technique to perform dimensionality reduction, i.e., to extract some low dimensional features from a dataset. Especially, we aim to find a linear transformation of the original data X s.t. the largest variance lies on the first transformed feature, the second largest variance on the second transformed feature and so on. At last, we only keep some of the features we extracted."
      ]
    },
    {
      "cell_type": "markdown",
      "metadata": {
        "id": "3MfglwV5auuc"
      },
      "source": [
        "To see how to perform PCA in practice, let us start once again from the Iris Dataset"
      ]
    },
    {
      "cell_type": "code",
      "metadata": {
        "id": "fCbUQ7RebI-x"
      },
      "source": [
        "from sklearn import datasets\n",
        "\n",
        "iris = datasets.load_iris()\n",
        "\n",
        "# the variable iris now contains inputs ('data' field), targets ('target', field)\n",
        "# and other stuff. Let us keep the inputs and targets in two separate variables\n",
        "\n",
        "X = iris.data\n",
        "y = iris.target\n",
        "\n",
        "# Note: PCA is an unsupervised technique, so we do not need y actually"
      ],
      "execution_count": null,
      "outputs": []
    },
    {
      "cell_type": "markdown",
      "metadata": {
        "id": "rzGbYJbddQB2"
      },
      "source": [
        "To identify the principal components (i.e., the extracted features), we have to:\n",
        "\n",
        "1. Normalize the original inputs X to obtain a matrix ($\\tilde{X}$) with zero (column-wise) mean;\n",
        "2. Compute the covariance matrix of $\\tilde{X}$, i.e., $C = \\tilde{X}^\\top \\tilde{X}$;\n",
        "3. Compute the eigenvectors $e$ and eigenvalues $\\lambda$ of $C$:\n",
        "  \n",
        "  - The eigenvector $e_1$ corresponding to the largest eigenvalue $\\lambda_1$ will be the first principal component direction;\n",
        "\n",
        "  - The eigenvector $e_2$ corresponding to the largest eigenvalue $\\lambda_2$ will be the second principal component direction;\n",
        "\n",
        "  - ...\n"
      ]
    },
    {
      "cell_type": "markdown",
      "metadata": {
        "id": "bPI7ekpFf_jC"
      },
      "source": [
        "Let us center the data in X (step 1)"
      ]
    },
    {
      "cell_type": "code",
      "metadata": {
        "id": "fFGYDggccvwi"
      },
      "source": [
        "import numpy as np\n",
        "\n",
        "X_tilde = X - np.mean(X, axis=0)\n",
        "\n",
        "# Note: np.mean(X, axis=0) returns a vector containing the mean of each column\n",
        "np.mean(X, axis=0)"
      ],
      "execution_count": null,
      "outputs": []
    },
    {
      "cell_type": "markdown",
      "metadata": {
        "id": "J_qM-KXJgZOR"
      },
      "source": [
        "We now compute the covariance matrix $C$ (step 2)"
      ]
    },
    {
      "cell_type": "code",
      "metadata": {
        "id": "2B0qB8G0geDr"
      },
      "source": [
        "C = np.dot(X_tilde.T, X_tilde)\n",
        "\n",
        "print(C)"
      ],
      "execution_count": null,
      "outputs": []
    },
    {
      "cell_type": "markdown",
      "metadata": {
        "id": "O4QU2Ym4g_VQ"
      },
      "source": [
        "We extract the eigenvectors and eigenvalues of $C$ with the eig function of numpy (https://numpy.org/doc/stable/reference/generated/numpy.linalg.eig.html)"
      ]
    },
    {
      "cell_type": "code",
      "metadata": {
        "id": "n-xjclgQhcvC"
      },
      "source": [
        "eigenvalues, eigenvectors = np.linalg.eig(C)\n",
        "\n",
        "print('eigenvalues:\\n', eigenvalues)\n",
        "print('eigenvectors:\\n', eigenvectors)\n",
        "\n",
        "# Note: each column of eigenvectors is the unit-length eigenvector corresponding to the i-th eigenvalue in eigenvalues\n",
        "# We should check they are ordered"
      ],
      "execution_count": null,
      "outputs": []
    },
    {
      "cell_type": "markdown",
      "metadata": {
        "id": "i06ZnUd9i3lm"
      },
      "source": [
        "The columns of the eigenvectors matrix identify the directions of the principal components. Thus, we have obtained the linear transformation matrix ($W$) we were looking for, and we can now transform the data as $T = \\tilde{X} W$"
      ]
    },
    {
      "cell_type": "code",
      "metadata": {
        "id": "qINKicoXjDFO"
      },
      "source": [
        "W = eigenvectors\n",
        "\n",
        "T = np.dot(X_tilde, W)\n",
        "\n",
        "print('Original data point:', X[21])\n",
        "print('Transformed data point:', T[21])"
      ],
      "execution_count": null,
      "outputs": []
    },
    {
      "cell_type": "markdown",
      "metadata": {
        "id": "ifR1CKmhjRca"
      },
      "source": [
        "### PCA with Scikit Learn\n",
        "\n",
        "Notably, there exist a much easier strategy to obtain the same linear transformation: use the scikit learn implementation (https://scikit-learn.org/stable/modules/generated/sklearn.decomposition.PCA.html)"
      ]
    },
    {
      "cell_type": "code",
      "metadata": {
        "id": "AbnsGnmmjd8h"
      },
      "source": [
        "from sklearn.decomposition import PCA\n",
        "\n",
        "# we create a PCA object\n",
        "pca = PCA()\n",
        "\n",
        "# we fit the dataset in X\n",
        "pca.fit(X)\n",
        "\n",
        "# we extract the principal components directions\n",
        "print('first principal component direction:', pca.components_[:,0])\n",
        "\n",
        "# and the corresponding explained variance\n",
        "explained = pca.explained_variance_\n",
        "print('explained variance:', explained)\n",
        "\n",
        "#Eigenvectors\n",
        "print(\"W=\", pca.components_.T)"
      ],
      "execution_count": null,
      "outputs": []
    },
    {
      "cell_type": "markdown",
      "metadata": {
        "id": "Z5Yxm5p6whcf"
      },
      "source": [
        "Finally, we can transoform the data as $T = \\tilde{X} W$"
      ]
    },
    {
      "cell_type": "code",
      "metadata": {
        "id": "Z1oFAPCqwuPc"
      },
      "source": [
        "T = pca.transform(X)\n",
        "\n",
        "print('The same data point as before:', T[21])"
      ],
      "execution_count": null,
      "outputs": []
    },
    {
      "cell_type": "markdown",
      "metadata": {
        "id": "OFii3PWfyhDE"
      },
      "source": [
        "### From Linear Transformation to Dimensionality Reduction\n",
        "\n",
        "Until now, we have simply transoformed the dataset, but we didn't reduce its dimensions. To perform dimensionality reduction, we can keep just the first $k$ columns of the linear transformation matrix $W$ (i.e., the first $k$ new axes) instead of all of them.\n",
        "\n",
        "But how can we choose $k$ properly? There exist several different strategies, such as:\n",
        "- Keep all the principal components until we cumulate at least 90% (or 95%) of the variance;\n",
        "- Keep all the principal components which explain more of the 5% of the variance;\n",
        "- Find the elbow in the cumulated variance.\n"
      ]
    },
    {
      "cell_type": "markdown",
      "metadata": {
        "id": "hX3aLAzolXJd"
      },
      "source": [
        "E.g., let us look for the elbow of the explained variance (as a function of the number of components)"
      ]
    },
    {
      "cell_type": "code",
      "metadata": {
        "id": "cIw9oblulbOX"
      },
      "source": [
        "from matplotlib import pyplot as plt\n",
        "\n",
        "explained_variance = np.cumsum(explained) / sum(explained)\n",
        "explained_variance = np.insert(explained_variance, 0, 0.)\n",
        "\n",
        "plt.figure(figsize=(12,7))\n",
        "plt.plot(range(5), explained_variance)\n",
        "plt.xlabel('Number of components')\n",
        "plt.ylabel('Explained variance')\n",
        "plt.xticks(range(5))\n",
        "plt.yticks(np.arange(0., 1.1, 0.1))\n",
        "plt.grid()\n",
        "plt.show()"
      ],
      "execution_count": null,
      "outputs": []
    },
    {
      "cell_type": "markdown",
      "metadata": {
        "id": "nQ9axZpHQVrq"
      },
      "source": [
        "We can see that the first two principal components dimensions accounts for the largest share of the explained variance (around 98%). Thus we may choose $k = 2$ to obtain the new dataset $T_2 = \\tilde{X} W_{1,2}$, where $W_{1,2}$ is obtained from $W$ keeping the first two columns."
      ]
    },
    {
      "cell_type": "code",
      "metadata": {
        "id": "fS2wyMIXSXDy"
      },
      "source": [
        "# without Scikit Learn\n",
        "T_12 = np.dot(X_tilde, W[:, :2])\n",
        "\n",
        "print('Original (example) data point', X[21])\n",
        "print('Transformed data point with reduced dimensionality', T_12[21])"
      ],
      "execution_count": null,
      "outputs": []
    },
    {
      "cell_type": "code",
      "metadata": {
        "id": "SM5_eFPhRiOm"
      },
      "source": [
        "# with Scikit Learn\n",
        "pca2 = PCA(n_components=2)\n",
        "T_12 = pca2.fit_transform(X)\n",
        "\n",
        "print('Data point with reduced dimensionality', T_12[21])"
      ],
      "execution_count": null,
      "outputs": []
    },
    {
      "cell_type": "markdown",
      "metadata": {
        "id": "QADzjuHvVtUL"
      },
      "source": [
        "### PCA for Classification\n",
        "\n",
        "There are multiple purposes to perform the PCA and project the dataset into a lower dimensional space. At first, we could consider the principal components analysis as a feature extraction technique for classification and regression tasks.\n",
        "\n",
        "Let us get back to the 'Iris-Setosa' classification task. First, we recover the corresponding targets from the dataset."
      ]
    },
    {
      "cell_type": "code",
      "metadata": {
        "id": "rjYGK5TrWTOM"
      },
      "source": [
        "# the dataset is stored in the variable iris\n",
        "y = iris.target.copy()\n",
        "# 0 - setosa, 1 - versicolor, 2 - virginica\n",
        "y[y == 1] = 2\n",
        "y[y == 0] = 1\n",
        "y[y == 2] = 0\n",
        "\n",
        "print('Iris-Setosa targets\\n', y)"
      ],
      "execution_count": null,
      "outputs": []
    },
    {
      "cell_type": "markdown",
      "metadata": {
        "id": "4SsghZErWG5-"
      },
      "source": [
        "Let us consider a logistic regression trained over different input dataset, i.e.\n",
        ", the original one ($X$), the first two principal components ($T_{1,2}$) and the last two ($T_{3,4}$)."
      ]
    },
    {
      "cell_type": "code",
      "metadata": {
        "id": "qyiRCpbzY-s_"
      },
      "source": [
        "from sklearn.linear_model import LogisticRegression\n",
        "\n",
        "# logistic regression on the original dataset\n",
        "log_classifier_original = LogisticRegression(penalty=None) # regularization is applied as default\n",
        "log_classifier_original.fit(X, y)\n",
        "y_hat_original = log_classifier_original.predict(X)\n",
        "acc_original = sum(y_hat_original == y) / len(y)\n",
        "print('Accuracy original:', acc_original)\n",
        "\n",
        "# logistic regression on the first two pc\n",
        "T_12 = np.dot(X_tilde, W[:,:2])\n",
        "log_classifier_12 = LogisticRegression(penalty=None)\n",
        "log_classifier_12.fit(T_12, y)\n",
        "y_hat_12 = log_classifier_12.predict(T_12)\n",
        "acc_12 = sum(y_hat_12 == y) / len(y)\n",
        "print('Accuracy first two pc:', acc_12)\n",
        "\n",
        "# logistic regression on the last two pc\n",
        "T_34 = np.dot(X_tilde, W[:,2:])\n",
        "log_classifier_34 = LogisticRegression(penalty=None)\n",
        "log_classifier_34.fit(T_34, y)\n",
        "y_hat_34 = log_classifier_34.predict(T_34)\n",
        "acc_34 = sum(y_hat_34 == y) / len(y)\n",
        "print('Accuracy last two pc:', acc_34)"
      ],
      "execution_count": null,
      "outputs": []
    },
    {
      "cell_type": "markdown",
      "metadata": {
        "id": "mp4Y8NDcbXHc"
      },
      "source": [
        "As you can see, the use of the first two principal components gives similar results, since they accounts for around 98% of the variance of the original data. Instead, it makes little sense to use the last two principal components (which explain a small share of the variance) and the corresponding accuracy drops significantly.\n",
        "\n",
        "Indeed, let us visualize the data in the space defined by the first two principal components as opposed to the last two"
      ]
    },
    {
      "cell_type": "code",
      "metadata": {
        "id": "kPtr2VYmpMcL"
      },
      "source": [
        "from matplotlib import pyplot as plt\n",
        "\n",
        "fig, (ax1, ax2) = plt.subplots(1, 2, figsize=(20,8))\n",
        "\n",
        "setosa = T_12[y == 1]\n",
        "not_setosa = T_12[y == 0]\n",
        "\n",
        "ax1.scatter(setosa[:, 0], setosa[:, 1], label='setosa')\n",
        "ax1.scatter(not_setosa[:, 0], not_setosa[:, 1], label='not setosa', marker='x')\n",
        "ax1.set(xlabel='pc1', ylabel='pc2')\n",
        "ax1.grid()\n",
        "ax1.legend()\n",
        "\n",
        "setosa = T_34[y == 1]\n",
        "not_setosa = T_34[y == 0]\n",
        "\n",
        "ax2.scatter(setosa[:, 0], setosa[:, 1], label='setosa')\n",
        "ax2.scatter(not_setosa[:, 0], not_setosa[:, 1], label='not setosa', marker='x')\n",
        "ax2.set(xlabel='pc3', ylabel='pc4')\n",
        "ax2.grid()\n",
        "ax2.legend()\n",
        "\n",
        "plt.show()"
      ],
      "execution_count": null,
      "outputs": []
    },
    {
      "cell_type": "markdown",
      "metadata": {
        "id": "bMfbJGBepJru"
      },
      "source": [
        "As a final remark we should underline that the PCA does not make use of the label when is performed on a dataset, while other model selection techniques are based on the a posteriori performance of the classifier (e.g., feature selection)."
      ]
    },
    {
      "cell_type": "markdown",
      "metadata": {
        "id": "jeQYFaU2OxB0"
      },
      "source": [
        "## Regularization"
      ]
    },
    {
      "cell_type": "markdown",
      "metadata": {
        "id": "mufW1rPeuYk9"
      },
      "source": [
        "We have already seen regularization techniques in relation with linear regression (e.g., Lasso, Ridge regression). This is actually a model selection technique, as it allows to tune the model complexity through a hyper-paramter (commonly denoted as $\\lambda$ in linear regression)"
      ]
    },
    {
      "cell_type": "markdown",
      "metadata": {
        "id": "3HG-RNRcv_ZH"
      },
      "source": [
        "Let us now consider the regularization technique in a different context, i.e., a classification task with the k-Nearest Neighbors (k-NN) classifier. k-NN is a non-parametric method that coarsely works as follows: Suppose you have to predict the class of a new data point, look at the $k$ data points in the train set that are the closest to this new one, and decides the class of it accordingly (usually via majority voting).\n",
        "\n",
        "As it is common in non-parametric methods, the k-NN classifier does not involve a real training phase, it just has to keep in memory the train set to make predictions. However, we need to properly choose the hyper-parameter $k$ beforehand, which is actually a regularization parameter.\n",
        "\n",
        "Let us look at how this works in practice on a classification task"
      ]
    },
    {
      "cell_type": "markdown",
      "metadata": {
        "id": "71izykwsySfy"
      },
      "source": [
        "As usual, we first load the Iris Dataset"
      ]
    },
    {
      "cell_type": "code",
      "metadata": {
        "id": "5B_cBssWgmst"
      },
      "source": [
        "from sklearn import datasets\n",
        "\n",
        "iris = datasets.load_iris()\n",
        "\n",
        "# the variable iris now contains inputs ('data' field), targets ('target', field)\n",
        "# and other stuff. Let us keep the inputs and targets in two separate variables\n",
        "\n",
        "X = iris.data\n",
        "y = iris.target\n",
        "\n",
        "print(iris.feature_names)"
      ],
      "execution_count": null,
      "outputs": []
    },
    {
      "cell_type": "markdown",
      "metadata": {
        "id": "UIpvu-7FyQPz"
      },
      "source": [
        "In this case, we would like to learn a classifier to discriminate between 'versicolor' and 'not-versicolor' by looking at the speal length and width. To do so, we split the data in a train set and a test set"
      ]
    },
    {
      "cell_type": "code",
      "metadata": {
        "id": "6mhB5sA-qyO2"
      },
      "source": [
        "import numpy as np\n",
        "# set the seed to get consistent splits\n",
        "np.random.seed(0)\n",
        "\n",
        "# we update the targets according to our preferred task\n",
        "# 0 - setosa, 1 - versicolor, 2 - virginica\n",
        "y[y == 2] = 0\n",
        "\n",
        "# let us concatenate X and y in a single matrix\n",
        "D = np.concatenate((X[:, :2], y.reshape(len(y), -1)), axis=1)\n",
        "\n",
        "# then we shuffle D\n",
        "np.random.shuffle(D)\n",
        "\n",
        "# and we split the data as 75/25\n",
        "X_train = D[:100,:2]\n",
        "y_train = D[:100,2]\n",
        "X_test = D[100:150,:2]\n",
        "y_test = D[100:150,2]"
      ],
      "execution_count": null,
      "outputs": []
    },
    {
      "cell_type": "markdown",
      "metadata": {
        "id": "5Z9EW_VQy3Gm"
      },
      "source": [
        "Let us plot the train data on the 2D sepal-length/sepal-width space"
      ]
    },
    {
      "cell_type": "code",
      "metadata": {
        "id": "qLOtlYIFg9ts"
      },
      "source": [
        "from matplotlib import pyplot as plt\n",
        "\n",
        "versicolor = X_train[y_train == 1]\n",
        "not_versicolor = X_train[y_train == 0]\n",
        "\n",
        "plt.figure(figsize=(12,7))\n",
        "plt.scatter(versicolor[:, 0], versicolor[:, 1], label='versicolor')\n",
        "plt.scatter(not_versicolor[:, 0], not_versicolor[:, 1], label='not versicolor', marker='x')\n",
        "\n",
        "plt.xlabel('sepal length')\n",
        "plt.ylabel('sepal width')\n",
        "plt.grid()\n",
        "plt.legend()\n",
        "plt.show()"
      ],
      "execution_count": null,
      "outputs": []
    },
    {
      "cell_type": "markdown",
      "metadata": {
        "id": "urg87qaxzGmK"
      },
      "source": [
        "The task looks quite hard, as data are not linearly separable. Let us fit a familiy of k-NN with different values for k, e.g., $k \\in \\{1, \\ldots, 10\\}$. For each classifier, we plot the corresponding decision surface with the function below"
      ]
    },
    {
      "cell_type": "code",
      "metadata": {
        "id": "1Gir0HvTlb3T"
      },
      "source": [
        "from matplotlib import pyplot as plt\n",
        "from matplotlib.colors import ListedColormap\n",
        "\n",
        "# function to plot the decision surface of the k-NN classifier,\n",
        "# see https://scikit-learn.org/stable/auto_examples/neighbors/plot_classification.html#sphx-glr-auto-examples-neighbors-plot-classification-py\n",
        "\n",
        "def knn_decision_surface(X, y, clf, k):\n",
        "\n",
        "  # let us prepare the decision surface by calling the predict over a grid of points\n",
        "  h = .02\n",
        "  x_min, x_max = X[:, 0].min() - .2, X[:, 0].max() + .2\n",
        "  y_min, y_max = X[:, 1].min() - .2, X[:, 1].max() + .2\n",
        "  xx, yy = np.meshgrid(np.arange(x_min, x_max, h), np.arange(y_min, y_max, h))\n",
        "  Z = clf.predict(np.c_[xx.ravel(), yy.ravel()])\n",
        "  Z = Z.reshape(xx.shape)\n",
        "\n",
        "  # colormap for the contour plot\n",
        "  cmap_light = ListedColormap(['orange', 'cornflowerblue'])\n",
        "\n",
        "  # plotting functions\n",
        "  plt.figure(figsize=(12, 7))\n",
        "  plt.contourf(xx, yy, Z, cmap=cmap_light, alpha=0.4)\n",
        "  plt.scatter(versicolor[:, 0], versicolor[:, 1], label='versicolor')\n",
        "  plt.scatter(not_versicolor[:, 0], not_versicolor[:, 1], label='not versicolor', marker='x')\n",
        "  plt.xlabel('sepal length')\n",
        "  plt.ylabel('sepal width')\n",
        "  plt.title(\"k = {}\".format(k))\n",
        "  plt.show()"
      ],
      "execution_count": null,
      "outputs": []
    },
    {
      "cell_type": "code",
      "metadata": {
        "id": "REVM0hSCh0-M"
      },
      "source": [
        "from sklearn import neighbors\n",
        "\n",
        "for k in np.arange(1, 11):\n",
        "  knn_classifier = neighbors.KNeighborsClassifier(k)\n",
        "  knn_classifier.fit(X_train[:,:2], y_train)\n",
        "  knn_decision_surface(X, y, knn_classifier, k)"
      ],
      "execution_count": null,
      "outputs": []
    },
    {
      "cell_type": "markdown",
      "metadata": {
        "id": "kUSOKZL20Jse"
      },
      "source": [
        "As you can see, the shape of the decision surface is quite crazy for a small value of $k$, whereas it becomes smoother and smoother when we increse $k$, but several data points are misclassified. What is going on? Let us evaluate the classifiers with the test set"
      ]
    },
    {
      "cell_type": "code",
      "metadata": {
        "id": "yP0o2lzxr1Om"
      },
      "source": [
        "parameters = np.arange(1, 11)\n",
        "train_accuracy = []\n",
        "test_accuracy = []\n",
        "\n",
        "for k in parameters:\n",
        "  knn_classifier = neighbors.KNeighborsClassifier(k)\n",
        "  knn_classifier.fit(X_train[:,:2], y_train)\n",
        "\n",
        "  y_hat = knn_classifier.predict(X_train[:,:2])\n",
        "  accuracy = sum(y_hat == y_train) / len(y_train)\n",
        "  train_accuracy.append(accuracy)\n",
        "\n",
        "  y_hat = knn_classifier.predict(X_test[:,:2])\n",
        "  accuracy = sum(y_hat == y_test) / len(y_test)\n",
        "  test_accuracy.append(accuracy)\n",
        "\n",
        "\n",
        "plt.figure(figsize=(12, 7))\n",
        "plt.plot(parameters, train_accuracy, label='train accuracy')\n",
        "plt.plot(parameters, test_accuracy, label='test accuracy')\n",
        "plt.xlabel('k')\n",
        "plt.ylabel('accuracy')\n",
        "plt.legend()\n",
        "plt.show()"
      ],
      "execution_count": null,
      "outputs": []
    },
    {
      "cell_type": "markdown",
      "metadata": {
        "id": "P4o9Td2B5JO2"
      },
      "source": [
        "We have a bias-variance trade-off once again. With a small $k$, the model overfits the train set (small training error, but large test error) and incurs in a large variance. With a greater $k$, the train accuracy decresases while the test accuracy increases. However, the model struggles to correctly classify all the samples, thus there is supposedly some bias."
      ]
    },
    {
      "cell_type": "markdown",
      "metadata": {
        "id": "E3kpTDZbOJsb"
      },
      "source": [
        "# Homeworks"
      ]
    },
    {
      "cell_type": "markdown",
      "metadata": {
        "id": "8lfvS4nfz82t"
      },
      "source": [
        "### Forward Feature Selection\n",
        "\n",
        "1) Implement the Forward Feature Selection method on the same classification task we considered above with the Backward version. Do you expect any change in hte results?\n",
        "\n",
        "2) Use the cross-validation to evaluate the features instead of a validation set. Why cross-validation might be preferable in this case?"
      ]
    },
    {
      "cell_type": "markdown",
      "metadata": {
        "id": "d7COwavLGRfS"
      },
      "source": [
        "### k-Nearest Neighbors from Scratch\n",
        "\n",
        "Implement the k-NN classifier from scratch instead of relying on the sklearn off-the-shelf implementation.\n",
        "\n",
        "Hint: a brute-force strategy to search for the k-nearest neighbors is definitely sufficient for the classification task above."
      ]
    },
    {
      "cell_type": "markdown",
      "metadata": {
        "id": "_OqZi4woHfRn"
      },
      "source": [
        "### Principal Components Analysis for Compression\n",
        "\n",
        "PCA can be seen as a compression method. Try to reconstruct the original dataset $X$ from the transformed dataset $T_{1,2}$ and the weights $W_{1,2}$. Do the same with $T_{3,4}$ and $W_{3,4}$. Which one works better? In which case we could perfectly reconstruct the original dataset?"
      ]
    },
    {
      "cell_type": "code",
      "metadata": {
        "id": "jRqAPyDHIjJL"
      },
      "source": [],
      "execution_count": null,
      "outputs": []
    }
  ]
}